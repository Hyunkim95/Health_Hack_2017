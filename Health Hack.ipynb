{
 "cells": [
  {
   "cell_type": "code",
   "execution_count": 449,
   "metadata": {},
   "outputs": [
    {
     "name": "stderr",
     "output_type": "stream",
     "text": [
      "C:\\Users\\danielhanchen\\Anaconda3\\lib\\site-packages\\bs4\\__init__.py:181: UserWarning: No parser was explicitly specified, so I'm using the best available HTML parser for this system (\"lxml\"). This usually isn't a problem, but if you run this code on another system, or in a different virtual environment, it may use a different parser and behave differently.\n",
      "\n",
      "The code that caused this warning is on line 193 of the file C:\\Users\\danielhanchen\\Anaconda3\\lib\\runpy.py. To get rid of this warning, change code that looks like this:\n",
      "\n",
      " BeautifulSoup(YOUR_MARKUP})\n",
      "\n",
      "to this:\n",
      "\n",
      " BeautifulSoup(YOUR_MARKUP, \"lxml\")\n",
      "\n",
      "  markup_type=markup_type))\n"
     ]
    },
    {
     "name": "stdout",
     "output_type": "stream",
     "text": [
      "Finished\n"
     ]
    }
   ],
   "source": [
    "from bs4 import BeautifulSoup as soup\n",
    "from urllib.request import urlopen\n",
    "from numpy import arange\n",
    "import re\n",
    "from unicodedata import normalize as clean\n",
    "from pandas import *\n",
    "remove = '\\<.*?\\>'\n",
    "\n",
    "def process(string):\n",
    "    return clean('NFKD',re.sub(remove, '', string)).lstrip().rstrip().replace('\\t','')\n",
    "\n",
    "\n",
    "data = {}\n",
    "\n",
    "for rows in arange(0,1000,15):\n",
    "    site = 'https://www.grants.gov.au/?keyword=&GOID=&startRow={}&orderBy=Close%20Date%20%26%20Time%20-%20Ascending&event=public%2EGO%2Elist'.format(rows)\n",
    "    \n",
    "    try:\n",
    "        html = soup(urlopen(site))\n",
    "        \n",
    "        if 'There are no results that match your selection' in str(html):\n",
    "            print(\"Finished\")\n",
    "            break\n",
    "        else:\n",
    "            text = str(html.find_all('div')).split('<div class=\"box boxY r9\">')[1:]\n",
    "\n",
    "            text = [x for x in text if len(x)>200]\n",
    "            for each in text:\n",
    "                result = {}\n",
    "\n",
    "                result[\"Title\"] = each.split('</p>')[0].split('>')[-1]\n",
    "                result[\"Go_id\"] = each.split('</a>')[0].split('>')[-1]\n",
    "                result[\"Deadline\"] = each.split('\\t\\t')[1].split('\\n')[0].lstrip().rstrip()\n",
    "                if result[\"Deadline\"] == '':\n",
    "                    result[\"Deadline\"] = 'NA'\n",
    "                    \n",
    "                result[\"Agency\"] = each.split('inner\">')[3].split('</')[0]\n",
    "                result[\"Category\"] = [each.split('inner\">')[4].split('</')[0]]\n",
    "\n",
    "                details_code = each.split('./?')[1].split('\"')[0].split('=')[2]\n",
    "\n",
    "                full_details = str(soup(urlopen('https://www.grants.gov.au/?event=public.GO.show&GOUUID={}'.format(details_code))).find_all('div'))\n",
    "                full_details = full_details.split('box boxW r9 listInner')[1]\n",
    "\n",
    "                try:\n",
    "                    result[\"Category\"].append(full_details.split('Secondary Category')[1].split('</div')[0].split('-desc-inner\">')[1])\n",
    "                except:\n",
    "                    pass\n",
    "\n",
    "                for want in [\"Internal Reference ID\", \"Publish Date\"]:\n",
    "                    try:\n",
    "                        result[want] = process(full_details.split(want)[1].split('</')[1].split('>')[-1].lstrip().rstrip())\n",
    "                    except:\n",
    "                        result[want] = \" \"\n",
    "\n",
    "                need = [\"Description\", \"Eligibility\", \"Instructions for Lodgement\"]\n",
    "                for x,y in zip(need, need[1:]):\n",
    "                    result[x] = process(full_details.split(x)[1].split(y)[0].split('<div class=\"list-desc-inner\">')[1].split('</div>')[0]                                .replace('<p>','').replace('</p>',' ').rstrip().replace('\\n',' '))\n",
    "\n",
    "                result['Instructions for Lodgement'] = process(full_details.split(\"Instructions for Lodgement\")[1].split('</div>')[0].split('\"list-desc-inner\">')[1]                        .replace('<p>','').replace('</p>',' ').rstrip().replace('\\n',' '))\n",
    "\n",
    "                try:\n",
    "                    result['Description'] += \"\\nGrant Activity Timeframe = \"\n",
    "                    result['Description'] += process(full_details.split(\"Grant Activity Timeframe\")[1].split('</div>')[0].split('\"list-desc-inner\">')[1]                        .replace('<p>','').replace('</p>',' ').rstrip().replace('\\n',' '))\n",
    "                except:\n",
    "                    result['Description'] += \" \"\n",
    "\n",
    "                try:\n",
    "                    result['Instructions for Lodgement'] += \"\\nOther Instructions = \"\n",
    "                    result['Instructions for Lodgement'] += process(full_details.split(\"Other Instructions\")[1].split('</div>')[0].split('\"list-desc-inner\">')[1]                        .replace('<p>','').replace('</p>',' ').rstrip().replace('\\n',' '))\n",
    "                except:\n",
    "                    result['Instructions for Lodgement'] += \" \"\n",
    "\n",
    "                try:\n",
    "                    result['Description'] += \"\\nAddenda Available = \"\n",
    "                    result['Description'] += process(full_details.split(\"Addenda Available\")[1].split('</div>')[0].split('\"list-desc-inner\">')[1]                        .replace('<p>','').replace('</p>',' ').rstrip().replace('\\n',' '))\n",
    "                except:\n",
    "                    result['Description'] += \"NA\"\n",
    "\n",
    "                result['Total Grant Amount'] = \"NA\"\n",
    "                try:\n",
    "                    result['Total Grant Amount'] = process(full_details.split(\"Total Amount Available\")[1].split('</div>')[0].split('\"list-desc-inner\">')[1]                        .replace('<p>','').replace('</p>',' ').rstrip().replace('\\n',' '))\n",
    "                except:\n",
    "                    pass\n",
    "\n",
    "                result['Estimated Grant Value'] = \"NA\"\n",
    "                try:\n",
    "                    result['Estimated Grant Value'] = process(full_details.split(\"Estimated Grant Value\")[1].split('</div>')[0].split('\"list-desc-inner\">')[1]                        .replace('<p>','').replace('</p>',' ').rstrip().replace('\\n',' '))\n",
    "                except:\n",
    "                    pass\n",
    "\n",
    "                try:\n",
    "                    result['Email'] = process(full_details.split(\"Contact Details\")[1].split('title')[1].split('>')[1].split('<')[0])\n",
    "                    result[\"Site\"] = process(full_details.split(\"Contact Details\")[1].split('href')[2].split('=\"')[1].split('\">')[0])\n",
    "                except:\n",
    "                    result['Email'] = process(full_details.split(\"Contact Details\")[2].split('href')[1].split('\"')[1].split(':')[1])\n",
    "                    result[\"Site\"] = process(full_details.split(\"Contact Details\")[2].split('href')[2].split('=\"')[1].split('\">')[0])\n",
    "\n",
    "                data[result[\"Title\"]] = result\n",
    "    except:\n",
    "        print(\"Finished\")\n",
    "        break"
   ]
  },
  {
   "cell_type": "code",
   "execution_count": 450,
   "metadata": {
    "collapsed": true
   },
   "outputs": [],
   "source": [
    "table = DataFrame(data).T\n",
    "table.to_json(path_or_buf = \"Aus Gov Grants.json\", orient = 'table')\n",
    "\n",
    "table[\"From where\"] = \"www.grants.gov.au\""
   ]
  },
  {
   "cell_type": "code",
   "execution_count": 451,
   "metadata": {},
   "outputs": [
    {
     "name": "stderr",
     "output_type": "stream",
     "text": [
      "C:\\Users\\danielhanchen\\Anaconda3\\lib\\site-packages\\bs4\\__init__.py:181: UserWarning: No parser was explicitly specified, so I'm using the best available HTML parser for this system (\"lxml\"). This usually isn't a problem, but if you run this code on another system, or in a different virtual environment, it may use a different parser and behave differently.\n",
      "\n",
      "The code that caused this warning is on line 193 of the file C:\\Users\\danielhanchen\\Anaconda3\\lib\\runpy.py. To get rid of this warning, change code that looks like this:\n",
      "\n",
      " BeautifulSoup(YOUR_MARKUP})\n",
      "\n",
      "to this:\n",
      "\n",
      " BeautifulSoup(YOUR_MARKUP, \"lxml\")\n",
      "\n",
      "  markup_type=markup_type))\n"
     ]
    }
   ],
   "source": [
    "site = \"https://www.dementiaresearchfoundation.org.au/research-grants\"\n",
    "\n",
    "html = soup(urlopen(site))\n",
    "text = str(html.find_all('div')).split('<div class=\"field-item even\" property=\"content:encoded\">')\\\n",
    "        [1].split('<h2>')[1:-1]"
   ]
  },
  {
   "cell_type": "code",
   "execution_count": 452,
   "metadata": {
    "collapsed": true
   },
   "outputs": [],
   "source": [
    "table[\"New Grants\"] = 1"
   ]
  },
  {
   "cell_type": "code",
   "execution_count": 453,
   "metadata": {
    "collapsed": true
   },
   "outputs": [],
   "source": [
    "data = {}\n",
    "\n",
    "for grant in text:\n",
    "    result = {}\n",
    "\n",
    "    result[\"Title\"] = process(grant.split('</h2>')[0])\n",
    "    result['Description'] = process(grant.split('</h2>')[1])\n",
    "    result[\"Agency\"] = \"Dementia Australia Research Foundation\"\n",
    "\n",
    "    result[\"Category\"] = [\"231013 - Medical Research\",\n",
    "                          '171004 - Services for People with Disabilities']\n",
    "\n",
    "    result['Estimated Grant Value'] = result[\"Description\"].split('$')[1].split(' ')[0]\n",
    "\n",
    "    result['Publish Date'] = result[\"Title\"].split(' ')[0]\n",
    "\n",
    "    result[\"Site\"] = 'https://www.dementiaresearchfoundation.org.au/research-grants'\n",
    "    result[\"From where\"] = 'www.dementiaresearchfoundation.org.au'\n",
    "\n",
    "    result['Internal Reference ID'] = ' '\n",
    "\n",
    "    result[\"Go_id\"] = \" \"\n",
    "    result[\"Eligibility\"] = \"NA\"\n",
    "\n",
    "    result[\"New Grants\"] = 0\n",
    "    result['Instructions for Lodgement'] = \"NA\"\n",
    "    result['Email'] = \" \"\n",
    "    result['Total Grant Amount'] = \"NA\"\n",
    "    result['Deadline'] = \"CLOSED\"\n",
    "    \n",
    "    data[result[\"Title\"]] = result"
   ]
  },
  {
   "cell_type": "code",
   "execution_count": 454,
   "metadata": {
    "collapsed": true
   },
   "outputs": [],
   "source": [
    "revs = []\n",
    "for x in table['Estimated Grant Value'].values:\n",
    "    if x != 'NA':\n",
    "        ranges = x.split('From')[-1]\n",
    "        rev = ranges.split('to')[-1].replace(',','').replace('$','')\\\n",
    "             .replace('.00','')\n",
    "        revs.append(int(rev.rstrip().lstrip()))\n",
    "    else:\n",
    "        revs.append('NA')\n",
    "\n",
    "total = []\n",
    "for u in revs:\n",
    "    if u != 'NA':\n",
    "        if u >= 500000: u = \"HIGH\"\n",
    "        elif u >= 100000: u = \"MEDIUM\"\n",
    "        else: u = \"LOW\"\n",
    "    total.append(u)\n",
    "    \n",
    "table[\"Grant Range\"] = total"
   ]
  },
  {
   "cell_type": "code",
   "execution_count": 455,
   "metadata": {
    "collapsed": true
   },
   "outputs": [],
   "source": [
    "table2 = DataFrame(data).T\n",
    "\n",
    "table = concat([table,table2])\n",
    "\n",
    "table.to_json(path_or_buf = \"Aus Gov Grants.json\", orient = 'table')"
   ]
  },
  {
   "cell_type": "code",
   "execution_count": 456,
   "metadata": {},
   "outputs": [
    {
     "name": "stderr",
     "output_type": "stream",
     "text": [
      "C:\\Users\\danielhanchen\\Anaconda3\\lib\\site-packages\\bs4\\__init__.py:181: UserWarning: No parser was explicitly specified, so I'm using the best available HTML parser for this system (\"lxml\"). This usually isn't a problem, but if you run this code on another system, or in a different virtual environment, it may use a different parser and behave differently.\n",
      "\n",
      "The code that caused this warning is on line 193 of the file C:\\Users\\danielhanchen\\Anaconda3\\lib\\runpy.py. To get rid of this warning, change code that looks like this:\n",
      "\n",
      " BeautifulSoup(YOUR_MARKUP})\n",
      "\n",
      "to this:\n",
      "\n",
      " BeautifulSoup(YOUR_MARKUP, \"lxml\")\n",
      "\n",
      "  markup_type=markup_type))\n"
     ]
    }
   ],
   "source": [
    "site = \"https://www.curebraincancer.org.au/page/197/funding-options\"\n",
    "\n",
    "html = soup(urlopen(site))\n",
    "text = str(html.find_all('div')).split('<div class=\"cms-inner\">')"
   ]
  },
  {
   "cell_type": "code",
   "execution_count": 457,
   "metadata": {
    "collapsed": true
   },
   "outputs": [],
   "source": [
    "text3 = text[1].split('DONATE')[0].split('<h3><a id=\"')[1:]\n",
    "\n",
    "text3 = [x.split('name=')[-1] for x in text3]\n",
    "data ={}\n",
    "\n",
    "for grant in text3:\n",
    "    result = {}\n",
    "    result[\"Title\"] = grant.split('\"')[1]\n",
    "\n",
    "    result[\"Deadline\"] = grant.split('ff0000\">')[1].split('</')[0]\n",
    "    result['Agency'] = \"Cure Brain Cancer Org\"\n",
    "\n",
    "    result['Category'] = ['231013 - Medical Research', '231004 - Cancer']\n",
    "\n",
    "    result['Description'] = grant.split('</p>\\n<p>')[1].split('</p>')[0]\n",
    "\n",
    "    result['Eligibility'] = process(grant.split('Eligibility')[1].split('underline\">')[1])\n",
    "\n",
    "    result['Estimated Grant Value'] = grant.split('Funding Details')[1].split('\">')[1].split('</p>')[0]\n",
    "\n",
    "    result[\"Site\"] = 'https://www.curebraincancer.org.au/page/197/funding-options'\n",
    "    result[\"From where\"] = 'www.curebraincancer.org.au'\n",
    "\n",
    "    result[\"Go_id\"] = \" \"\n",
    "    result['Internal Reference ID'] = \" \"\n",
    "    result['Instructions for Lodgement'] = \" \"\n",
    "    result['New Grants'] = (1-('Deadline passed' in grant)*1)\n",
    "\n",
    "    result['Publish Date'] = text[1].split('Opportunities')[0].split('<h1>')[-1].lstrip().rstrip()\n",
    "\n",
    "    result['Total Grant Amount'] = \"NA\"\n",
    "    \n",
    "    data[result['Title']] = result"
   ]
  },
  {
   "cell_type": "code",
   "execution_count": 458,
   "metadata": {
    "collapsed": true
   },
   "outputs": [],
   "source": [
    "totals = []\n",
    "table3 = DataFrame(data).T\n",
    "\n",
    "for y in table3['Estimated Grant Value']:\n",
    "    try:\n",
    "        totals.append(sum([int(x.split(' ')[0].replace(',','')) \n",
    "                       for x in y.split('$')[1:]]))\n",
    "    except:\n",
    "        totals.append('NA')\n",
    "table3['Estimated Grant Value'] = totals\n",
    "\n",
    "total = []\n",
    "for u in totals:\n",
    "    if u != 'NA':\n",
    "        if u >= 500000: u = \"HIGH\"\n",
    "        elif u >= 100000: u = \"MEDIUM\"\n",
    "        else: u = \"LOW\"\n",
    "    total.append(u)\n",
    "    \n",
    "table3[\"Grant Range\"] = total\n",
    "\n",
    "table = concat([table,table3])\n",
    "\n",
    "table.to_json(path_or_buf = \"Aus Gov Grants.json\", orient = 'table')"
   ]
  },
  {
   "cell_type": "code",
   "execution_count": 486,
   "metadata": {
    "collapsed": true
   },
   "outputs": [],
   "source": [
    "from selenium import webdriver\n",
    "\n",
    "driver = webdriver.Firefox(executable_path=\n",
    "                           r'C:\\Users\\danielhanchen\\Desktop\\geckodriver.exe')\n",
    "driver.implicitly_wait(30)\n",
    "driver.maximize_window()\n",
    "\n",
    "driver.get(\"https://www.business.gov.au/assistance/results?q=\")"
   ]
  },
  {
   "cell_type": "code",
   "execution_count": 487,
   "metadata": {
    "collapsed": true
   },
   "outputs": [],
   "source": [
    "from time import sleep"
   ]
  },
  {
   "cell_type": "code",
   "execution_count": 488,
   "metadata": {
    "collapsed": true
   },
   "outputs": [],
   "source": [
    "for x in range(100000):\n",
    "    try:\n",
    "        buttons = driver.find_elements_by_xpath(\"//*[contains(text(), 'Show more')]\")\n",
    "\n",
    "        for btn in buttons:\n",
    "            btn.click()\n",
    "            sleep(1)\n",
    "    except:\n",
    "        break"
   ]
  },
  {
   "cell_type": "code",
   "execution_count": 489,
   "metadata": {},
   "outputs": [
    {
     "name": "stderr",
     "output_type": "stream",
     "text": [
      "C:\\Users\\danielhanchen\\Anaconda3\\lib\\site-packages\\bs4\\__init__.py:181: UserWarning: No parser was explicitly specified, so I'm using the best available HTML parser for this system (\"lxml\"). This usually isn't a problem, but if you run this code on another system, or in a different virtual environment, it may use a different parser and behave differently.\n",
      "\n",
      "The code that caused this warning is on line 193 of the file C:\\Users\\danielhanchen\\Anaconda3\\lib\\runpy.py. To get rid of this warning, change code that looks like this:\n",
      "\n",
      " BeautifulSoup(YOUR_MARKUP})\n",
      "\n",
      "to this:\n",
      "\n",
      " BeautifulSoup(YOUR_MARKUP, \"lxml\")\n",
      "\n",
      "  markup_type=markup_type))\n"
     ]
    }
   ],
   "source": [
    "html = soup(driver.page_source)\n",
    "\n",
    "text = str(html.find_all('div')).split(\n",
    "    '<div class=\"search-result-card__content\">')[1:][0:-1]"
   ]
  },
  {
   "cell_type": "code",
   "execution_count": 490,
   "metadata": {
    "collapsed": true
   },
   "outputs": [],
   "source": [
    "data = {}\n",
    "\n",
    "for grant in text:\n",
    "    result = {}\n",
    "    result[\"Title\"] = grant.split('<a href=\"/')[1].split('\">')[1].split('</')[0]\n",
    "\n",
    "    try:\n",
    "        result[\"Description\"] = process(grant.split('Open')[1].split('<h3>')[0])\n",
    "    except:\n",
    "        result[\"Description\"] = grant.split('<p>\\n')[1].split('</p>')[0]\n",
    "    \n",
    "    parra = grant.split('Who can apply')\n",
    "    if len(parra) != 1:\n",
    "        parra = process(parra[-1]).replace(':','').replace('\\n\\n','\\n')\n",
    "        result['Eligibility'] = parra\n",
    "    else:\n",
    "        result['Eligibility'] = \"NA\"\n",
    "\n",
    "    result['Deadline'] = \"2017\"\n",
    "\n",
    "    result['Agency'] = \"Australian Government - Department for Business\"\n",
    "\n",
    "    result['Category'] = \"Startups and Innovation\"\n",
    "\n",
    "    try:\n",
    "        result['Estimated Grant Value'] = int(result[\"Description\"].split(\"$\")[-1].replace(' million',',000,000')\\\n",
    "        .split(' ')[0].replace(',',''))\n",
    "    except:\n",
    "        result['Estimated Grant Value'] = 'NA'\n",
    "        \n",
    "    result[\"From where\"] = 'https://www.business.gov.au/assistance/results?q='\n",
    "\n",
    "    result['Go_id'] = ' '\n",
    "\n",
    "    result['Internal Reference ID'] = \" \"\n",
    "\n",
    "    result['New Grants'] = 1\n",
    "    result[\"Publish Date\"] = '2017'\n",
    "\n",
    "    result[\"Site\"] = 'www.business.gov.au'\n",
    "\n",
    "    result['Total Grant Amount'] = result['Estimated Grant Value']\n",
    "    \n",
    "    data[result[\"Title\"]] = result\n",
    "\n",
    "table4 = DataFrame(data).T\n",
    "totals = table4[\"Estimated Grant Value\"]\n",
    "\n",
    "total = []\n",
    "for u in totals:\n",
    "    if u != 'NA':\n",
    "        if u >= 500000: u = \"HIGH\"\n",
    "        elif u >= 100000: u = \"MEDIUM\"\n",
    "        else: u = \"LOW\"\n",
    "    total.append(u)\n",
    "    \n",
    "table4[\"Grant Range\"] = total"
   ]
  },
  {
   "cell_type": "code",
   "execution_count": 491,
   "metadata": {
    "collapsed": true
   },
   "outputs": [],
   "source": [
    "table = concat([table,table4])\n",
    "\n",
    "table.to_json(path_or_buf = \"Aus Gov Grants.json\", orient = 'table')"
   ]
  },
  {
   "cell_type": "code",
   "execution_count": 492,
   "metadata": {},
   "outputs": [
    {
     "data": {
      "text/plain": [
       "array(['111002 - Business Development', '211005 - Land Resources',\n",
       "       '321003 - Scientific Research',\n",
       "       '381001 - Science, Technology, Engineering and Mathematics (STEM) Research',\n",
       "       '381002 - Humanities, Arts and Social Sciences (HASS) Research',\n",
       "       '231013 - Medical Research', '231004 - Cancer',\n",
       "       '261002 - Small Business', '131001 - Child Care',\n",
       "       '361002 - Defence',\n",
       "       '271004 - Research and Technology Based Services',\n",
       "       '151003 - Family and Domestic Violence', '101005 - Social Support',\n",
       "       '151004 - Legal Services', '121002 - Cultural Heritage',\n",
       "       '331004 - Social Justice', '331002 - Human Rights',\n",
       "       '171004 - Services for People with Disabilities',\n",
       "       '111001 - Drought', '111003 - Farming',\n",
       "       '211006 - Natural Resources - Conservation and Protection',\n",
       "       '351002 - Regional Development', '101002 - Community Care',\n",
       "       '181000 - Disaster Relief',\n",
       "       '201004 - Vocational Training and Apprenticeships',\n",
       "       '231018 - Public Health Services',\n",
       "       '231017 - Public Health and Safety', '151006 - National Security',\n",
       "       '251005 - Indigenous Health', '321001 - Science',\n",
       "       '321002 - Technology', 'S', 't', 'a', 'r', 'u', 'p', 's', ' ', 'n',\n",
       "       'd', 'I', 'o', 'v', 'i'], dtype=object)"
      ]
     },
     "execution_count": 492,
     "metadata": {},
     "output_type": "execute_result"
    }
   ],
   "source": [
    "lists = []\n",
    "for u in table[\"Category\"]:\n",
    "    if len(u) != 1:\n",
    "        for x in u:\n",
    "            lists.append(x)\n",
    "    else:\n",
    "        lists.append(u[0])\n",
    "        \n",
    "Series(lists).unique()"
   ]
  }
 ],
 "metadata": {
  "kernelspec": {
   "display_name": "Python 3",
   "language": "python",
   "name": "python3"
  },
  "language_info": {
   "codemirror_mode": {
    "name": "ipython",
    "version": 3
   },
   "file_extension": ".py",
   "mimetype": "text/x-python",
   "name": "python",
   "nbconvert_exporter": "python",
   "pygments_lexer": "ipython3",
   "version": "3.6.1"
  }
 },
 "nbformat": 4,
 "nbformat_minor": 2
}
